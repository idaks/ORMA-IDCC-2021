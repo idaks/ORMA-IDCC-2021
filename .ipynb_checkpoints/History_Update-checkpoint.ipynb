{
 "cells": [
  {
   "cell_type": "markdown",
   "id": "e7ddb7c2",
   "metadata": {},
   "source": [
    "## ORMA -> History Update:\n",
    "1. separate facet before applying transformations \n",
    "2. dependency relationships return\n",
    "3. color changes represent being affected "
   ]
  },
  {
   "cell_type": "code",
   "execution_count": 40,
   "id": "074fa6dd",
   "metadata": {},
   "outputs": [],
   "source": [
    "import json\n",
    "from ORMA.extra_info import generate_recipe as gen\n",
    "import re"
   ]
  },
  {
   "cell_type": "code",
   "execution_count": null,
   "id": "f999f925",
   "metadata": {},
   "outputs": [],
   "source": [
    "from graphviz import Digraph"
   ]
  },
  {
   "cell_type": "code",
   "execution_count": 2,
   "id": "cd23ef8b",
   "metadata": {},
   "outputs": [],
   "source": [
    "r1 = {\n",
    "        'd': 'g',\n",
    "        'g': 't',\n",
    "        't': 'e'\n",
    "    } "
   ]
  },
  {
   "cell_type": "code",
   "execution_count": null,
   "id": "e27d48cf",
   "metadata": {},
   "outputs": [],
   "source": [
    "# Draw r1\n",
    "base_graph = Digraph('Base-Graph', filename='Figure/exp.gv')\n",
    "base_nodes = get_node(r1)\n",
    "for base_node in base_nodes:\n",
    "    base_graph.node(base_node) # add nodes to base graph\n",
    "base_graph = get_edges(r1, base_graph) # add edges to base graph\n",
    "base_graph.attr('node', shape=feature_data['shape'], style=feature_data['style'], fillcolor=feature_data['fillcolor'])\n",
    "# base_graph.view()\n",
    "base_graph"
   ]
  },
  {
   "cell_type": "code",
   "execution_count": null,
   "id": "599f726a",
   "metadata": {},
   "outputs": [],
   "source": [
    "# if value-level changed: color 1\n",
    "# if schema-level changed: color 2 \n",
    "# convert the color of the nodes "
   ]
  },
  {
   "cell_type": "code",
   "execution_count": 8,
   "id": "343a0d4a",
   "metadata": {},
   "outputs": [
    {
     "data": {
      "text/plain": [
       "[{'op': 'core/column-removal',\n",
       "  'columnName': 'Youtube',\n",
       "  'description': 'Remove column Youtube'},\n",
       " {'op': 'core/text-transform',\n",
       "  'engineConfig': {'facets': [], 'mode': 'row-based'},\n",
       "  'columnName': 'State',\n",
       "  'expression': 'value.toLowercase()',\n",
       "  'onError': 'keep-original',\n",
       "  'repeat': False,\n",
       "  'repeatCount': 10,\n",
       "  'description': 'Text transform on cells in column State using expression value.toLowercase()'},\n",
       " {'op': 'core/text-transform',\n",
       "  'engineConfig': {'facets': [], 'mode': 'row-based'},\n",
       "  'columnName': 'County',\n",
       "  'expression': 'value.trim()',\n",
       "  'onError': 'keep-original',\n",
       "  'repeat': False,\n",
       "  'repeatCount': 10,\n",
       "  'description': 'Text transform on cells in column County using expression value.trim()'},\n",
       " {'op': 'core/text-transform',\n",
       "  'engineConfig': {'facets': [], 'mode': 'row-based'},\n",
       "  'columnName': 'State',\n",
       "  'expression': 'value.toTitlecase()',\n",
       "  'onError': 'keep-original',\n",
       "  'repeat': False,\n",
       "  'repeatCount': 10,\n",
       "  'description': 'Text transform on cells in column State using expression value.toTitlecase()'},\n",
       " {'op': 'core/column-rename',\n",
       "  'oldColumnName': 'city',\n",
       "  'newColumnName': 'City',\n",
       "  'description': 'Rename column city to City'},\n",
       " {'op': 'core/column-addition',\n",
       "  'engineConfig': {'facets': [], 'mode': 'row-based'},\n",
       "  'baseColumnName': 'State',\n",
       "  'expression': \"grel:cells.State.value + ',' + cells.City.value\",\n",
       "  'onError': 'set-to-blank',\n",
       "  'newColumnName': 'Place',\n",
       "  'columnInsertIndex': 10,\n",
       "  'description': \"Create column Place at index 10 based on column State using expression grel:cells.State.value + ',' + cells.City.value\"},\n",
       " {'op': 'core/column-split',\n",
       "  'engineConfig': {'facets': [], 'mode': 'row-based'},\n",
       "  'columnName': 'Season1Date',\n",
       "  'guessCellType': True,\n",
       "  'removeOriginalColumn': False,\n",
       "  'mode': 'separator',\n",
       "  'separator': 'to',\n",
       "  'regex': False,\n",
       "  'maxColumns': 0,\n",
       "  'description': 'Split column Season1Date by separator'},\n",
       " {'op': 'core/column-rename',\n",
       "  'oldColumnName': 'Season1Date 1',\n",
       "  'newColumnName': 'Season1Date_from',\n",
       "  'description': 'Rename column Season1Date 1 to Season1Date_from'},\n",
       " {'op': 'core/column-rename',\n",
       "  'oldColumnName': 'Season1Date 2',\n",
       "  'newColumnName': 'Season1Date_to',\n",
       "  'description': 'Rename column Season1Date 2 to Season1Date_to'},\n",
       " {'op': 'core/column-addition',\n",
       "  'engineConfig': {'facets': [], 'mode': 'row-based'},\n",
       "  'baseColumnName': 'Season1Date_from',\n",
       "  'expression': \"jython:import re\\npattern = re.compile(r'\\\\d{2}/\\\\d{2}/\\\\d{4}')\\nif value:\\n   if pattern.match(value):\\n      return 1\\n   else:\\n      return 0\\nelse:\\n   return 'null'\",\n",
       "  'onError': 'set-to-blank',\n",
       "  'newColumnName': 'valid_Season1Date_from_flag',\n",
       "  'columnInsertIndex': 14,\n",
       "  'description': \"Create column valid_Season1Date_from_flag at index 14 based on column Season1Date_from using expression jython:import re\\npattern = re.compile(r'\\\\d{2}/\\\\d{2}/\\\\d{4}')\\nif value:\\n   if pattern.match(value):\\n      return 1\\n   else:\\n      return 0\\nelse:\\n   return 'null'\"},\n",
       " {'op': 'core/text-transform',\n",
       "  'engineConfig': {'facets': [{'type': 'list',\n",
       "     'name': 'valid_Season1Date_from_flag',\n",
       "     'expression': 'value',\n",
       "     'columnName': 'valid_Season1Date_from_flag',\n",
       "     'invert': False,\n",
       "     'omitBlank': False,\n",
       "     'omitError': False,\n",
       "     'selection': [{'v': {'v': 0, 'l': '0'}}],\n",
       "     'selectBlank': False,\n",
       "     'selectError': False},\n",
       "    {'type': 'list',\n",
       "     'name': 'Season1Date_from',\n",
       "     'expression': 'value',\n",
       "     'columnName': 'Season1Date_from',\n",
       "     'invert': False,\n",
       "     'omitBlank': False,\n",
       "     'omitError': False,\n",
       "     'selection': [{'v': {'v': 'Oc', 'l': 'Oc'}}],\n",
       "     'selectBlank': False,\n",
       "     'selectError': False}],\n",
       "   'mode': 'row-based'},\n",
       "  'columnName': 'Season1Date_from',\n",
       "  'expression': \"grel:cells.Season1Date.value.split(' to ')[0]\",\n",
       "  'onError': 'keep-original',\n",
       "  'repeat': False,\n",
       "  'repeatCount': 10,\n",
       "  'description': \"Text transform on cells in column Season1Date_from using expression grel:cells.Season1Date.value.split(' to ')[0]\"}]"
      ]
     },
     "execution_count": 8,
     "metadata": {},
     "output_type": "execute_result"
    }
   ],
   "source": [
    "# Load recipe \n",
    "with open('demo_recipes/dependency_analysis_exp1.json', 'r')as json_f:\n",
    "    json_data = json.load(json_f)\n",
    "json_data"
   ]
  },
  {
   "cell_type": "code",
   "execution_count": 15,
   "id": "828057cf",
   "metadata": {},
   "outputs": [
    {
     "name": "stdout",
     "output_type": "stream",
     "text": [
      "12\n"
     ]
    }
   ],
   "source": [
    "enhanced_recipe, schemas = gen(project_id=1689182305388)\n",
    "print(len(schemas))"
   ]
  },
  {
   "cell_type": "code",
   "execution_count": 60,
   "id": "883c4bb9",
   "metadata": {},
   "outputs": [],
   "source": [
    "# save data into triples (step_id, from_node, to_node)\n",
    "nodes = []\n",
    "# initial_schema = schemas[0]['schema']\n",
    "\n",
    "for idx,schema in enumerate(schemas[1:]):\n",
    "    step_id = idx+1\n",
    "    cur_col_list = schema['schema']\n",
    "    prev_col_list = schemas[step_id-1]['schema']\n",
    "    op = json_data[idx]['op']\n",
    "    if len(cur_col_list) < len(prev_col_list):\n",
    "        assert op == 'core/column-removal'\n",
    "        colname = json_data[idx]['columnName']\n",
    "        from_node = colname\n",
    "        to_nodes = 'null'\n",
    "    elif len(cur_col_list) > len(prev_col_list):\n",
    "        if op == 'core/column-split':\n",
    "            from_node = json_data[idx]['columnName']\n",
    "            to_nodes = [x for x in cur_col_list if x not in prev_col_list]\n",
    "        elif op == 'core/column-addition':\n",
    "            # we only consider decoding grel expression now...\n",
    "            # 'expression': \"grel:cells.State.value + ',' + cells.City.value\"  \n",
    "            #  cells[\"Column 1\"].value + cells[\"Column 2\"].value            \n",
    "            exp = json_data[idx]['expression']\n",
    "            if exp.split(':')[0] == 'grel':\n",
    "                if re.findall(r'cells.(\\w+).value', exp):\n",
    "                    from_node = re.findall(r'cells.(\\w+).value', exp)\n",
    "                elif re.findall(r'cells\\[\\\"(\\w+\\s*\\d*\\w*)\\\"\\]\\.value', exp):\n",
    "                    from_node = re.findall(r'cells\\[\\\"(\\w+\\s*\\d*\\w*)\\\"\\]\\.value', exp)\n",
    "                to_nodes = json_data[idx]['newColumnName']\n",
    "            else:\n",
    "                from_node = json_data[idx]['baseColumnName']\n",
    "                to_nodes = json_data[idx]['newColumnName']\n",
    "\n",
    "    elif len(cur_col_list) == len(prev_col_list):\n",
    "        if cur_col_list == prev_col_list:\n",
    "            from_node = json_data[idx]['columnName']\n",
    "            to_nodes = from_node\n",
    "        else:\n",
    "            if op == 'core/column-rename':\n",
    "                from_node = json_data[idx]['oldColumnName']\n",
    "                to_nodes = json_data[idx]['newColumnName']\n",
    "    nodes.append((step_id, op, from_node, to_nodes))"
   ]
  },
  {
   "cell_type": "code",
   "execution_count": 61,
   "id": "aedc1115",
   "metadata": {},
   "outputs": [
    {
     "data": {
      "text/plain": [
       "[(1, 'core/column-removal', 'Youtube', 'null'),\n",
       " (2, 'core/text-transform', 'State', 'State'),\n",
       " (3, 'core/text-transform', 'County', 'County'),\n",
       " (4, 'core/text-transform', 'State', 'State'),\n",
       " (5, 'core/column-rename', 'city', 'City'),\n",
       " (6, 'core/column-addition', ['State', 'City'], 'Place'),\n",
       " (7,\n",
       "  'core/column-split',\n",
       "  'Season1Date',\n",
       "  ['Season1Date 1', 'Season1Date 2', 'Season1Date 3']),\n",
       " (8, 'core/column-rename', 'Season1Date 1', 'Season1Date_from'),\n",
       " (9, 'core/column-rename', 'Season1Date 2', 'Season1Date_to'),\n",
       " (10,\n",
       "  'core/column-addition',\n",
       "  'Season1Date_from',\n",
       "  'valid_Season1Date_from_flag'),\n",
       " (11, 'core/text-transform', 'Season1Date_from', 'Season1Date_from')]"
      ]
     },
     "execution_count": 61,
     "metadata": {},
     "output_type": "execute_result"
    }
   ],
   "source": [
    "nodes"
   ]
  },
  {
   "cell_type": "code",
   "execution_count": null,
   "id": "b373aaaa",
   "metadata": {},
   "outputs": [],
   "source": []
  }
 ],
 "metadata": {
  "kernelspec": {
   "display_name": "Python 3 (ipykernel)",
   "language": "python",
   "name": "python3"
  },
  "language_info": {
   "codemirror_mode": {
    "name": "ipython",
    "version": 3
   },
   "file_extension": ".py",
   "mimetype": "text/x-python",
   "name": "python",
   "nbconvert_exporter": "python",
   "pygments_lexer": "ipython3",
   "version": "3.9.6"
  }
 },
 "nbformat": 4,
 "nbformat_minor": 5
}
