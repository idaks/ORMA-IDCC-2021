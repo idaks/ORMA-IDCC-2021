{
 "cells": [
  {
   "cell_type": "markdown",
   "id": "e7ddb7c2",
   "metadata": {},
   "source": [
    "## ORMA -> History Update:\n",
    "1. separate facet before applying transformations \n",
    "2. dependency relationships return\n",
    "3. color changes represent being affected "
   ]
  },
  {
   "cell_type": "code",
   "execution_count": 1,
   "id": "074fa6dd",
   "metadata": {},
   "outputs": [],
   "source": [
    "import json\n",
    "from ORMA.extra_info import generate_recipe as gen\n",
    "import re\n",
    "import pandas as pd\n",
    "from utils import *\n",
    "from itertools import product"
   ]
  },
  {
   "cell_type": "code",
   "execution_count": 2,
   "id": "f999f925",
   "metadata": {},
   "outputs": [],
   "source": [
    "from graphviz import Digraph"
   ]
  },
  {
   "cell_type": "code",
   "execution_count": 3,
   "id": "343a0d4a",
   "metadata": {},
   "outputs": [
    {
     "data": {
      "text/plain": [
       "[{'op': 'core/column-removal',\n",
       "  'columnName': 'Youtube',\n",
       "  'description': 'Remove column Youtube'},\n",
       " {'op': 'core/text-transform',\n",
       "  'engineConfig': {'facets': [], 'mode': 'row-based'},\n",
       "  'columnName': 'State',\n",
       "  'expression': 'value.toLowercase()',\n",
       "  'onError': 'keep-original',\n",
       "  'repeat': False,\n",
       "  'repeatCount': 10,\n",
       "  'description': 'Text transform on cells in column State using expression value.toLowercase()'},\n",
       " {'op': 'core/text-transform',\n",
       "  'engineConfig': {'facets': [], 'mode': 'row-based'},\n",
       "  'columnName': 'County',\n",
       "  'expression': 'value.trim()',\n",
       "  'onError': 'keep-original',\n",
       "  'repeat': False,\n",
       "  'repeatCount': 10,\n",
       "  'description': 'Text transform on cells in column County using expression value.trim()'},\n",
       " {'op': 'core/text-transform',\n",
       "  'engineConfig': {'facets': [], 'mode': 'row-based'},\n",
       "  'columnName': 'State',\n",
       "  'expression': 'value.toTitlecase()',\n",
       "  'onError': 'keep-original',\n",
       "  'repeat': False,\n",
       "  'repeatCount': 10,\n",
       "  'description': 'Text transform on cells in column State using expression value.toTitlecase()'},\n",
       " {'op': 'core/column-rename',\n",
       "  'oldColumnName': 'city',\n",
       "  'newColumnName': 'City',\n",
       "  'description': 'Rename column city to City'},\n",
       " {'op': 'core/column-addition',\n",
       "  'engineConfig': {'facets': [], 'mode': 'row-based'},\n",
       "  'baseColumnName': 'State',\n",
       "  'expression': \"grel:cells.State.value + ',' + cells.City.value\",\n",
       "  'onError': 'set-to-blank',\n",
       "  'newColumnName': 'Place',\n",
       "  'columnInsertIndex': 10,\n",
       "  'description': \"Create column Place at index 10 based on column State using expression grel:cells.State.value + ',' + cells.City.value\"},\n",
       " {'op': 'core/column-split',\n",
       "  'engineConfig': {'facets': [], 'mode': 'row-based'},\n",
       "  'columnName': 'Season1Date',\n",
       "  'guessCellType': True,\n",
       "  'removeOriginalColumn': False,\n",
       "  'mode': 'separator',\n",
       "  'separator': 'to',\n",
       "  'regex': False,\n",
       "  'maxColumns': 0,\n",
       "  'description': 'Split column Season1Date by separator'},\n",
       " {'op': 'core/column-rename',\n",
       "  'oldColumnName': 'Season1Date 1',\n",
       "  'newColumnName': 'Season1Date_from',\n",
       "  'description': 'Rename column Season1Date 1 to Season1Date_from'},\n",
       " {'op': 'core/column-rename',\n",
       "  'oldColumnName': 'Season1Date 2',\n",
       "  'newColumnName': 'Season1Date_to',\n",
       "  'description': 'Rename column Season1Date 2 to Season1Date_to'},\n",
       " {'op': 'core/column-addition',\n",
       "  'engineConfig': {'facets': [], 'mode': 'row-based'},\n",
       "  'baseColumnName': 'Season1Date_from',\n",
       "  'expression': \"jython:import re\\npattern = re.compile(r'\\\\d{2}/\\\\d{2}/\\\\d{4}')\\nif value:\\n   if pattern.match(value):\\n      return 1\\n   else:\\n      return 0\\nelse:\\n   return 'null'\",\n",
       "  'onError': 'set-to-blank',\n",
       "  'newColumnName': 'valid_Season1Date_from_flag',\n",
       "  'columnInsertIndex': 14,\n",
       "  'description': \"Create column valid_Season1Date_from_flag at index 14 based on column Season1Date_from using expression jython:import re\\npattern = re.compile(r'\\\\d{2}/\\\\d{2}/\\\\d{4}')\\nif value:\\n   if pattern.match(value):\\n      return 1\\n   else:\\n      return 0\\nelse:\\n   return 'null'\"},\n",
       " {'op': 'core/text-transform',\n",
       "  'engineConfig': {'facets': [{'type': 'list',\n",
       "     'name': 'valid_Season1Date_from_flag',\n",
       "     'expression': 'value',\n",
       "     'columnName': 'valid_Season1Date_from_flag',\n",
       "     'invert': False,\n",
       "     'omitBlank': False,\n",
       "     'omitError': False,\n",
       "     'selection': [{'v': {'v': 0, 'l': '0'}}],\n",
       "     'selectBlank': False,\n",
       "     'selectError': False},\n",
       "    {'type': 'list',\n",
       "     'name': 'Season1Date_from',\n",
       "     'expression': 'value',\n",
       "     'columnName': 'Season1Date_from',\n",
       "     'invert': False,\n",
       "     'omitBlank': False,\n",
       "     'omitError': False,\n",
       "     'selection': [{'v': {'v': 'Oc', 'l': 'Oc'}}],\n",
       "     'selectBlank': False,\n",
       "     'selectError': False}],\n",
       "   'mode': 'row-based'},\n",
       "  'columnName': 'Season1Date_from',\n",
       "  'expression': \"grel:cells.Season1Date.value.split(' to ')[0]\",\n",
       "  'onError': 'keep-original',\n",
       "  'repeat': False,\n",
       "  'repeatCount': 10,\n",
       "  'description': \"Text transform on cells in column Season1Date_from using expression grel:cells.Season1Date.value.split(' to ')[0]\"},\n",
       " {'op': 'core/text-transform',\n",
       "  'engineConfig': {'facets': [], 'mode': 'row-based'},\n",
       "  'columnName': 'State',\n",
       "  'expression': 'value.trim()',\n",
       "  'onError': 'keep-original',\n",
       "  'repeat': False,\n",
       "  'repeatCount': 10,\n",
       "  'description': 'Text transform on cells in column State using expression value.trim()'}]"
      ]
     },
     "execution_count": 3,
     "metadata": {},
     "output_type": "execute_result"
    }
   ],
   "source": [
    "# Load recipe \n",
    "with open('demo_recipes/depen_analysis_exp2.json', 'r')as json_f:\n",
    "    json_data = json.load(json_f)\n",
    "json_data"
   ]
  },
  {
   "cell_type": "code",
   "execution_count": 4,
   "id": "828057cf",
   "metadata": {},
   "outputs": [
    {
     "name": "stdout",
     "output_type": "stream",
     "text": [
      "13\n"
     ]
    }
   ],
   "source": [
    "enhanced_recipe, schemas = gen(project_id=1689182305388)\n",
    "print(len(schemas))"
   ]
  },
  {
   "cell_type": "markdown",
   "id": "49b2138c",
   "metadata": {},
   "source": [
    "### Read transformation data into model \n",
    "> trans_model: (step_id, transformation, from_schema, to_schema)"
   ]
  },
  {
   "cell_type": "code",
   "execution_count": 5,
   "id": "883c4bb9",
   "metadata": {},
   "outputs": [],
   "source": [
    "# save data into triples (step_id, transformation, from_schema, to_schema)\n",
    "trans_data = model_process(schemas, json_data)"
   ]
  },
  {
   "cell_type": "code",
   "execution_count": 6,
   "id": "aedc1115",
   "metadata": {},
   "outputs": [
    {
     "data": {
      "text/plain": [
       "[(1, 'core/column-removal', ['Youtube'], ['null']),\n",
       " (2, 'core/text-transform', ['State'], ['State']),\n",
       " (3, 'core/text-transform', ['County'], ['County']),\n",
       " (4, 'core/text-transform', ['State'], ['State']),\n",
       " (5, 'core/column-rename', ['city'], ['City']),\n",
       " (6, 'core/column-addition', ['State', 'City'], ['Place']),\n",
       " (7,\n",
       "  'core/column-split',\n",
       "  ['Season1Date'],\n",
       "  ['Season1Date 1', 'Season1Date 2', 'Season1Date 3']),\n",
       " (8, 'core/column-rename', ['Season1Date 1'], ['Season1Date_from']),\n",
       " (9, 'core/column-rename', ['Season1Date 2'], ['Season1Date_to']),\n",
       " (10,\n",
       "  'core/column-addition',\n",
       "  ['Season1Date_from'],\n",
       "  ['valid_Season1Date_from_flag']),\n",
       " (11, 'core/text-transform', ['Season1Date_from'], ['Season1Date_from']),\n",
       " (12, 'core/text-transform', ['State'], ['State'])]"
      ]
     },
     "execution_count": 6,
     "metadata": {},
     "output_type": "execute_result"
    }
   ],
   "source": [
    "trans_data"
   ]
  },
  {
   "cell_type": "code",
   "execution_count": 7,
   "id": "b373aaaa",
   "metadata": {},
   "outputs": [],
   "source": [
    "# Load process model into pandas dataframe\n",
    "process_df = pd.DataFrame(trans_data, columns=['step_id', 'transformation', 'from_schema', 'to_schema'], index=None)"
   ]
  },
  {
   "cell_type": "code",
   "execution_count": 8,
   "id": "ed79abb4",
   "metadata": {},
   "outputs": [
    {
     "data": {
      "text/html": [
       "<div>\n",
       "<style scoped>\n",
       "    .dataframe tbody tr th:only-of-type {\n",
       "        vertical-align: middle;\n",
       "    }\n",
       "\n",
       "    .dataframe tbody tr th {\n",
       "        vertical-align: top;\n",
       "    }\n",
       "\n",
       "    .dataframe thead th {\n",
       "        text-align: right;\n",
       "    }\n",
       "</style>\n",
       "<table border=\"1\" class=\"dataframe\">\n",
       "  <thead>\n",
       "    <tr style=\"text-align: right;\">\n",
       "      <th></th>\n",
       "      <th>step_id</th>\n",
       "      <th>transformation</th>\n",
       "      <th>from_schema</th>\n",
       "      <th>to_schema</th>\n",
       "    </tr>\n",
       "  </thead>\n",
       "  <tbody>\n",
       "    <tr>\n",
       "      <th>0</th>\n",
       "      <td>1</td>\n",
       "      <td>core/column-removal</td>\n",
       "      <td>[Youtube]</td>\n",
       "      <td>[null]</td>\n",
       "    </tr>\n",
       "    <tr>\n",
       "      <th>1</th>\n",
       "      <td>2</td>\n",
       "      <td>core/text-transform</td>\n",
       "      <td>[State]</td>\n",
       "      <td>[State]</td>\n",
       "    </tr>\n",
       "    <tr>\n",
       "      <th>2</th>\n",
       "      <td>3</td>\n",
       "      <td>core/text-transform</td>\n",
       "      <td>[County]</td>\n",
       "      <td>[County]</td>\n",
       "    </tr>\n",
       "    <tr>\n",
       "      <th>3</th>\n",
       "      <td>4</td>\n",
       "      <td>core/text-transform</td>\n",
       "      <td>[State]</td>\n",
       "      <td>[State]</td>\n",
       "    </tr>\n",
       "    <tr>\n",
       "      <th>4</th>\n",
       "      <td>5</td>\n",
       "      <td>core/column-rename</td>\n",
       "      <td>[city]</td>\n",
       "      <td>[City]</td>\n",
       "    </tr>\n",
       "    <tr>\n",
       "      <th>5</th>\n",
       "      <td>6</td>\n",
       "      <td>core/column-addition</td>\n",
       "      <td>[State, City]</td>\n",
       "      <td>[Place]</td>\n",
       "    </tr>\n",
       "    <tr>\n",
       "      <th>6</th>\n",
       "      <td>7</td>\n",
       "      <td>core/column-split</td>\n",
       "      <td>[Season1Date]</td>\n",
       "      <td>[Season1Date 1, Season1Date 2, Season1Date 3]</td>\n",
       "    </tr>\n",
       "    <tr>\n",
       "      <th>7</th>\n",
       "      <td>8</td>\n",
       "      <td>core/column-rename</td>\n",
       "      <td>[Season1Date 1]</td>\n",
       "      <td>[Season1Date_from]</td>\n",
       "    </tr>\n",
       "    <tr>\n",
       "      <th>8</th>\n",
       "      <td>9</td>\n",
       "      <td>core/column-rename</td>\n",
       "      <td>[Season1Date 2]</td>\n",
       "      <td>[Season1Date_to]</td>\n",
       "    </tr>\n",
       "    <tr>\n",
       "      <th>9</th>\n",
       "      <td>10</td>\n",
       "      <td>core/column-addition</td>\n",
       "      <td>[Season1Date_from]</td>\n",
       "      <td>[valid_Season1Date_from_flag]</td>\n",
       "    </tr>\n",
       "    <tr>\n",
       "      <th>10</th>\n",
       "      <td>11</td>\n",
       "      <td>core/text-transform</td>\n",
       "      <td>[Season1Date_from]</td>\n",
       "      <td>[Season1Date_from]</td>\n",
       "    </tr>\n",
       "    <tr>\n",
       "      <th>11</th>\n",
       "      <td>12</td>\n",
       "      <td>core/text-transform</td>\n",
       "      <td>[State]</td>\n",
       "      <td>[State]</td>\n",
       "    </tr>\n",
       "  </tbody>\n",
       "</table>\n",
       "</div>"
      ],
      "text/plain": [
       "    step_id        transformation         from_schema  \\\n",
       "0         1   core/column-removal           [Youtube]   \n",
       "1         2   core/text-transform             [State]   \n",
       "2         3   core/text-transform            [County]   \n",
       "3         4   core/text-transform             [State]   \n",
       "4         5    core/column-rename              [city]   \n",
       "5         6  core/column-addition       [State, City]   \n",
       "6         7     core/column-split       [Season1Date]   \n",
       "7         8    core/column-rename     [Season1Date 1]   \n",
       "8         9    core/column-rename     [Season1Date 2]   \n",
       "9        10  core/column-addition  [Season1Date_from]   \n",
       "10       11   core/text-transform  [Season1Date_from]   \n",
       "11       12   core/text-transform             [State]   \n",
       "\n",
       "                                        to_schema  \n",
       "0                                          [null]  \n",
       "1                                         [State]  \n",
       "2                                        [County]  \n",
       "3                                         [State]  \n",
       "4                                          [City]  \n",
       "5                                         [Place]  \n",
       "6   [Season1Date 1, Season1Date 2, Season1Date 3]  \n",
       "7                              [Season1Date_from]  \n",
       "8                                [Season1Date_to]  \n",
       "9                   [valid_Season1Date_from_flag]  \n",
       "10                             [Season1Date_from]  \n",
       "11                                        [State]  "
      ]
     },
     "execution_count": 8,
     "metadata": {},
     "output_type": "execute_result"
    }
   ],
   "source": [
    "process_df"
   ]
  },
  {
   "cell_type": "code",
   "execution_count": 9,
   "id": "44ec5630",
   "metadata": {},
   "outputs": [],
   "source": [
    "# facts file: process(step_id, op_name, from_nodes, to_nodes)\n",
    "# dep(x,y) :- process(x, op_name1, from_nodes1, to_nodes1), process(y, op_name2, to_nodes1, to_nodes2), y>x.\n",
    "# dep(x,y) :- process(x, op_name1, from_nodes1, to_nodes1), process(z, op_name2, to_nodes1, to_nodes2), z>x, dep(z,y)."
   ]
  },
  {
   "cell_type": "markdown",
   "id": "0123116b",
   "metadata": {},
   "source": [
    "## Create a Graph to Save Dependency Relationships at Step/Operation Level:\n",
    "> Return Dependency Relationships at Step/Operation Level Saved in a Dictionary for Easy Query: \n",
    ">>  {Step_x: [list of dependencies of Step_x], Step_y: [list of dependencies of Step_y],...}"
   ]
  },
  {
   "cell_type": "code",
   "execution_count": 19,
   "id": "5884a1fa",
   "metadata": {},
   "outputs": [],
   "source": [
    "def depend_step(json_data, df):\n",
    "    # @params json_data: recipe data in JSON format \n",
    "    # @params df: process data model in pandas dataframe \n",
    "    # @return: dictionary of dependency relationships at Step Level\n",
    "    df['dependency'] = df.apply(lambda row: list(product(row['from_schema'], row['to_schema'])),\n",
    "                                             axis=1)\n",
    "    dep_col = df['dependency']\n",
    "    print(dep_col)\n",
    "    steps_list = list(dep_col.index)\n",
    "    graph_steps = graph_op_model(steps_list, dep_col)\n",
    "    \n",
    "    for step in steps_list:\n",
    "        graph_steps[step] = list(set(dfs(graph_steps, step)))\n",
    "#     print(graph_steps)\n",
    "    return graph_steps "
   ]
  },
  {
   "cell_type": "code",
   "execution_count": 20,
   "id": "a25638ff",
   "metadata": {
    "scrolled": true
   },
   "outputs": [
    {
     "name": "stdout",
     "output_type": "stream",
     "text": [
      "0                                     [(Youtube, null)]\n",
      "1                                      [(State, State)]\n",
      "2                                    [(County, County)]\n",
      "3                                      [(State, State)]\n",
      "4                                        [(city, City)]\n",
      "5                       [(State, Place), (City, Place)]\n",
      "6     [(Season1Date, Season1Date 1), (Season1Date, S...\n",
      "7                   [(Season1Date 1, Season1Date_from)]\n",
      "8                     [(Season1Date 2, Season1Date_to)]\n",
      "9     [(Season1Date_from, valid_Season1Date_from_flag)]\n",
      "10               [(Season1Date_from, Season1Date_from)]\n",
      "11                                     [(State, State)]\n",
      "Name: dependency, dtype: object\n"
     ]
    },
    {
     "data": {
      "text/plain": [
       "{1: [11, 1, 3, 5],\n",
       " 3: [11, 3, 5],\n",
       " 4: [4, 5],\n",
       " 6: [6, 7, 8, 9, 10],\n",
       " 7: [9, 10, 7],\n",
       " 0: [0],\n",
       " 2: [2],\n",
       " 5: [5],\n",
       " 8: [8],\n",
       " 9: [9],\n",
       " 10: [10],\n",
       " 11: [11]}"
      ]
     },
     "execution_count": 20,
     "metadata": {},
     "output_type": "execute_result"
    }
   ],
   "source": [
    "# Three modes: modify; remove; insert \n",
    "ops_dep_dict = depend_step(json_data, process_df)\n",
    "ops_dep_dict"
   ]
  },
  {
   "cell_type": "markdown",
   "id": "330d92e5",
   "metadata": {},
   "source": [
    "## Mermaid-js Play Graph in Jupyter Notebook "
   ]
  },
  {
   "cell_type": "code",
   "execution_count": 18,
   "id": "98e2d518",
   "metadata": {},
   "outputs": [
    {
     "data": {
      "text/html": [
       "<img src=\"https://mermaid.ink/img/CmdyYXBoIExSCiAgIFlvdXR1YmVfMCAtLT4gfDB8IE51bGw7CiAgIFN0YXRlXzAgLS0+IHwxfCBTdGF0ZV8xOwogICBDb3VudHJ5XzAgLS0+IHwyfCBDb3VudHJ5XzE7CiAgIFN0YXRlXzEgLS0+IHwzfCBTdGF0ZV8yOwogICBjaXR5XzAgLS0+IHw0fCBDaXR5XzA7CiAgIFN0YXRlXzIgLS0+IHw1fCBQbGFjZV8wOwogICBDaXR5XzAgLS0+IHw1fCBQbGFjZV8wOwogICBTZWFzb24xRGF0ZV8wIC0tPiB8NnwgU2Vhc29uMURhdGVfMV8wOwogICBTZWFzb24xRGF0ZV8wIC0tPiB8NnwgU2Vhc29uMURhdGVfMl8wOwogICBTZWFzb24xRGF0ZV8wIC0tPiB8NnwgU2Vhc29uMURhdGVfM18wOwogICBTZWFzb24xRGF0ZV8xXzAgLS0+IHw3fCBTZWFzb24xRGF0ZV9mcm9tXzA7CiAgIFNlYXNvbjFEYXRlXzJfMCAtLT4gfDh8IFNlYXNvbjFEYXRlX3RvXzA7CiAgIFNlYXNvbjFEYXRlX2Zyb21fMCAtLT4gfDl8IHZhbGlkX1NlYXNvbjFEYXRlX2Zyb21fZmxhZ18wCiAgIFNlYXNvbjFEYXRlX2Zyb21fMCAtLT4gfDEwfCBTZWFzb24xRGF0ZV9mcm9tXzEKICAgU3RhdGVfMiAtLT4gfDExfCBTdGF0ZV8zCgo=\"/>"
      ],
      "text/plain": [
       "<IPython.core.display.Image object>"
      ]
     },
     "metadata": {},
     "output_type": "display_data"
    }
   ],
   "source": [
    "import base64\n",
    "from IPython.display import Image, display\n",
    "import matplotlib.pyplot as plt\n",
    "\n",
    "def mm(graph):\n",
    "  graphbytes = graph.encode(\"ascii\")\n",
    "  base64_bytes = base64.b64encode(graphbytes)\n",
    "  base64_string = base64_bytes.decode(\"ascii\")\n",
    "  display(Image(url=\"https://mermaid.ink/img/\" + base64_string))\n",
    "\n",
    "mm(\"\"\"\n",
    "graph LR\n",
    "   Youtube_0 --> |0| Null;\n",
    "   State_0 --> |1| State_1;\n",
    "   Country_0 --> |2| Country_1;\n",
    "   State_1 --> |3| State_2;\n",
    "   city_0 --> |4| City_0;\n",
    "   State_2 --> |5| Place_0;\n",
    "   City_0 --> |5| Place_0;\n",
    "   Season1Date_0 --> |6| Season1Date_1_0;\n",
    "   Season1Date_0 --> |6| Season1Date_2_0;\n",
    "   Season1Date_0 --> |6| Season1Date_3_0;\n",
    "   Season1Date_1_0 --> |7| Season1Date_from_0;\n",
    "   Season1Date_2_0 --> |8| Season1Date_to_0;\n",
    "   Season1Date_from_0 --> |9| valid_Season1Date_from_flag_0\n",
    "   Season1Date_from_0 --> |10| Season1Date_from_1\n",
    "   State_2 --> |11| State_3\n",
    "\n",
    "\"\"\")\n"
   ]
  },
  {
   "cell_type": "markdown",
   "id": "74f9ea78",
   "metadata": {},
   "source": [
    "## Use ORMA to Generate Graph to Help Execute Dependency Information at Column Level"
   ]
  },
  {
   "cell_type": "code",
   "execution_count": 21,
   "id": "fb0dc249",
   "metadata": {},
   "outputs": [],
   "source": [
    "def depend_col(json_data, df):\n",
    "    # @params json_data: recipe data in JSON format \n",
    "    # @params df: process data model in pandas dataframe \n",
    "    # @return: dictionary of dependency relationships at Column Level \n",
    "    df['dependency'] = df.apply(lambda row: list(product(row['from_schema'], row['to_schema'])),\n",
    "                                             axis=1)\n",
    "    dep_col = df['dependency']\n",
    "    col_list = list(dep_col)\n",
    "    neighbors_of, nodes, label_nodes = find_neighbors(col_list)\n",
    "    return neighbors_of, nodes, label_nodes"
   ]
  },
  {
   "cell_type": "code",
   "execution_count": 22,
   "id": "bad61796",
   "metadata": {},
   "outputs": [
    {
     "ename": "ValueError",
     "evalue": "not enough values to unpack (expected 3, got 2)",
     "output_type": "error",
     "traceback": [
      "\u001b[0;31m---------------------------------------------------------------------------\u001b[0m",
      "\u001b[0;31mValueError\u001b[0m                                Traceback (most recent call last)",
      "Cell \u001b[0;32mIn[22], line 1\u001b[0m\n\u001b[0;32m----> 1\u001b[0m neighbors, nodes, label_nodes \u001b[38;5;241m=\u001b[39m \u001b[43mdepend_col\u001b[49m\u001b[43m(\u001b[49m\u001b[43mjson_data\u001b[49m\u001b[43m,\u001b[49m\u001b[43m \u001b[49m\u001b[43mprocess_df\u001b[49m\u001b[43m)\u001b[49m\n\u001b[1;32m      2\u001b[0m nodes \n\u001b[1;32m      3\u001b[0m label_nodes\n",
      "Cell \u001b[0;32mIn[21], line 9\u001b[0m, in \u001b[0;36mdepend_col\u001b[0;34m(json_data, df)\u001b[0m\n\u001b[1;32m      7\u001b[0m dep_col \u001b[38;5;241m=\u001b[39m df[\u001b[38;5;124m'\u001b[39m\u001b[38;5;124mdependency\u001b[39m\u001b[38;5;124m'\u001b[39m]\n\u001b[1;32m      8\u001b[0m col_list \u001b[38;5;241m=\u001b[39m \u001b[38;5;28mlist\u001b[39m(dep_col)\n\u001b[0;32m----> 9\u001b[0m neighbors_of, nodes, label_nodes \u001b[38;5;241m=\u001b[39m find_neighbors(col_list)\n\u001b[1;32m     10\u001b[0m \u001b[38;5;28;01mreturn\u001b[39;00m neighbors_of, nodes, label_nodes\n",
      "\u001b[0;31mValueError\u001b[0m: not enough values to unpack (expected 3, got 2)"
     ]
    }
   ],
   "source": [
    "neighbors, nodes, label_nodes = depend_col(json_data, process_df)\n",
    "label_nodes"
   ]
  },
  {
   "cell_type": "markdown",
   "id": "ac6f9fa5",
   "metadata": {},
   "source": [
    "### Explore affected dependencies \n",
    "> Provided affected step_id (transformation): modified/inserted/removed\n",
    "\n",
    "> Return: Affected steps and columns"
   ]
  },
  {
   "cell_type": "code",
   "execution_count": null,
   "id": "e89b6abe",
   "metadata": {},
   "outputs": [],
   "source": [
    "def label_and_update(step_id, ops_dep, mode=\"modify\", operator=None):\n",
    "    # @params step_id: step id that is required to be modified/inserted before/deleted\n",
    "    # @params ops_dep: dependency information at operation level with a dict \n",
    "    # @params mode: [\"modify\", \"delete\", \"insert\"]\n",
    "    # @return: affected steps list [step_id, step_id0,...], columns list [col, col_0,...]\n",
    "    if mode == 'insert':\n",
    "        # extra diagnois is required\n",
    "        if operator:\n",
    "            col_repair = extract_col(operator)\n",
    "            pass\n",
    "        else:\n",
    "            print(f'You need to provide operator that requires to be inserted before {step_id}')\n",
    "            break\n",
    "    else:\n",
    "        depend_lists = ops_dep[step_id]"
   ]
  },
  {
   "cell_type": "code",
   "execution_count": 9,
   "id": "5ec549c3",
   "metadata": {},
   "outputs": [
    {
     "data": {
      "text/plain": [
       "'apple'"
      ]
     },
     "execution_count": 9,
     "metadata": {},
     "output_type": "execute_result"
    }
   ],
   "source": [
    "res = extract_col({'op':'core/column-rename', 'oldColumnName': 'apple'})\n",
    "res"
   ]
  },
  {
   "cell_type": "code",
   "execution_count": null,
   "id": "42e43b71",
   "metadata": {},
   "outputs": [],
   "source": [
    "# col_node = extract_col(operator)\n",
    "\"\"\"Given different mode, determine the json data that required to be updated\"\"\"\n",
    "if mode=='insert':\n",
    "    # Note: default insert type: insert before the step \n",
    "    repair_recipe = json_data[step_id:]\n",
    "    repair_df = df[df['step_id']>=step_id]\n",
    "else:\n",
    "    repair_recipe = json_data[step_id+1:]\n",
    "    repair_df = df[df['step_id']>step_id]"
   ]
  },
  {
   "cell_type": "code",
   "execution_count": null,
   "id": "db108c9b",
   "metadata": {},
   "outputs": [],
   "source": []
  },
  {
   "cell_type": "code",
   "execution_count": 3,
   "id": "cd23ef8b",
   "metadata": {},
   "outputs": [],
   "source": [
    "r1 = {\n",
    "        'd': 'g',\n",
    "        'g': 't',\n",
    "        't': 'e'\n",
    "    } "
   ]
  },
  {
   "cell_type": "code",
   "execution_count": null,
   "id": "599f726a",
   "metadata": {},
   "outputs": [],
   "source": [
    "# if value-level changed: color 1\n",
    "# if schema-level changed: color 2 \n",
    "# convert the color of the nodes "
   ]
  },
  {
   "cell_type": "code",
   "execution_count": null,
   "id": "e27d48cf",
   "metadata": {},
   "outputs": [],
   "source": [
    "# Draw r1\n",
    "base_graph = Digraph('Base-Graph', filename='Figure/exp.gv')\n",
    "base_nodes = get_node(r1)\n",
    "for base_node in base_nodes:\n",
    "    base_graph.node(base_node) # add nodes to base graph\n",
    "base_graph = get_edges(r1, base_graph) # add edges to base graph\n",
    "base_graph.attr('node', shape=feature_data['shape'], style=feature_data['style'], fillcolor=feature_data['fillcolor'])\n",
    "# base_graph.view()\n",
    "base_graph"
   ]
  }
 ],
 "metadata": {
  "kernelspec": {
   "display_name": "Python 3 (ipykernel)",
   "language": "python",
   "name": "python3"
  },
  "language_info": {
   "codemirror_mode": {
    "name": "ipython",
    "version": 3
   },
   "file_extension": ".py",
   "mimetype": "text/x-python",
   "name": "python",
   "nbconvert_exporter": "python",
   "pygments_lexer": "ipython3",
   "version": "3.9.6"
  }
 },
 "nbformat": 4,
 "nbformat_minor": 5
}
